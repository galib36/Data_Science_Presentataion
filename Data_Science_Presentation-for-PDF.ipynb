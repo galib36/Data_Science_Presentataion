{
 "cells": [
  {
   "cell_type": "markdown",
   "metadata": {
    "slideshow": {
     "slide_type": "slide"
    }
   },
   "source": [
    "# Jupyter for Next-generation sequencing data<br><br>\n",
    "\n",
    "\n",
    "\n",
    "### Syed Murtuza Baker"
   ]
  },
  {
   "cell_type": "markdown",
   "metadata": {
    "slideshow": {
     "slide_type": "slide"
    }
   },
   "source": [
    "## What is Next-generation sequencing"
   ]
  },
  {
   "cell_type": "markdown",
   "metadata": {
    "slideshow": {
     "slide_type": "slide"
    }
   },
   "source": [
    "- DNA sequencing technology which has revolutionised genomic research\n",
    "- Using NGS an entire human genome can be sequenced within a single day\n",
    "- It is also much cheaper compared to previous methods "
   ]
  },
  {
   "cell_type": "markdown",
   "metadata": {
    "slideshow": {
     "slide_type": "slide"
    }
   },
   "source": [
    "<center><img src=\"NGS_Stat_V2.png\"></center>\n",
    "<div align=\"right\">\n",
    "<font size=3>SRC = Illumina (2014) HiSeqX Ten preliminary system speci cation sheet</font></div>"
   ]
  },
  {
   "cell_type": "markdown",
   "metadata": {
    "slideshow": {
     "slide_type": "slide"
    }
   },
   "source": [
    "## RNA-sequencing\n",
    "- An approach for transcriptome profiling that uses NGS technologies\n",
    "- Essential for interpreting the functional elements of the genome"
   ]
  },
  {
   "cell_type": "markdown",
   "metadata": {
    "slideshow": {
     "slide_type": "slide"
    }
   },
   "source": [
    "## Central Dogma\n",
    "\n",
    "<center><img src=\"Central_Dogma_2.png\" height=\"450\" width=\"450\"></center>\n",
    "<div align=\"right\">"
   ]
  },
  {
   "cell_type": "markdown",
   "metadata": {
    "collapsed": true,
    "slideshow": {
     "slide_type": "slide"
    }
   },
   "source": [
    "## RNA-seq Analysis <br><br>\n",
    "\n",
    "<center><img src=\"RNA_seq.png\"></center>"
   ]
  },
  {
   "cell_type": "markdown",
   "metadata": {
    "slideshow": {
     "slide_type": "slide"
    }
   },
   "source": [
    "## Why Single-Cell\n",
    "\n",
    "<center><img src=\"Single_cell_heterogeneity.png\"></center>"
   ]
  },
  {
   "cell_type": "markdown",
   "metadata": {
    "slideshow": {
     "slide_type": "slide"
    }
   },
   "source": [
    "## Single-cell workflow\n",
    "\n",
    "<center><img src=\"Single_cell_experiment.png\" height=\"750\" width=\"750\"><center>"
   ]
  },
  {
   "cell_type": "markdown",
   "metadata": {
    "slideshow": {
     "slide_type": "slide"
    }
   },
   "source": [
    "## Steps for Jupyter-Notebook on Hydra\n",
    "\n",
    "- Open two command window (we will login twice)\n",
    "- Login to Hydra as normal in one window\n",
    "- Run: \n",
    "`module load apps/binapps/jupyter-notebook/4.1`\n",
    "- Run: `jupyter-notebook-hydra`\n",
    "- This automatically submits job to the queues and gives you the `ssh-tunneling` link if successful"
   ]
  },
  {
   "cell_type": "markdown",
   "metadata": {
    "slideshow": {
     "slide_type": "slide"
    }
   },
   "source": [
    "- On the other widnow use the `ssh-tunneling` to tunnel your data on port 8888 to hydra\n",
    "- Go to <a href=\"http://localhost:8888\">localhost:8888</a> on the browser of the local machine"
   ]
  }
 ],
 "metadata": {
  "celltoolbar": "Slideshow",
  "kernelspec": {
   "display_name": "Python 2",
   "language": "python",
   "name": "python2"
  },
  "language_info": {
   "codemirror_mode": {
    "name": "ipython",
    "version": 2
   },
   "file_extension": ".py",
   "mimetype": "text/x-python",
   "name": "python",
   "nbconvert_exporter": "python",
   "pygments_lexer": "ipython2",
   "version": "2.7.11"
  }
 },
 "nbformat": 4,
 "nbformat_minor": 0
}
